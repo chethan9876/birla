{
 "cells": [
  {
   "cell_type": "markdown",
   "id": "fcf72543",
   "metadata": {},
   "source": [
    "## Four pillars of OOPS:\n",
    "\n",
    "1. Inheritance\n",
    "\n",
    "2. Encapsulation\n",
    "\n",
    "3. Polymorphism\n",
    "\n",
    "4. Abstraction"
   ]
  },
  {
   "cell_type": "markdown",
   "id": "f8eb9b6b",
   "metadata": {},
   "source": [
    "### Inheritance:\n",
    "\n",
    "Inheritance allows a class to inherit properties and methods from the base(parent class).\n",
    "\n",
    "This helps in reusability and makes it easier to modify existing code."
   ]
  },
  {
   "cell_type": "markdown",
   "id": "45f6ab8d",
   "metadata": {},
   "source": [
    "#### Types of Inheritance:"
   ]
  },
  {
   "cell_type": "markdown",
   "id": "d171707b",
   "metadata": {},
   "source": [
    "1. Single Inheritance:\n",
    "    \n",
    "Single Inheritance allows a derived(child) class to inherit properties and methods from a single base(parent) class. (One to One)"
   ]
  },
  {
   "cell_type": "code",
   "execution_count": 1,
   "id": "b4f012a7",
   "metadata": {},
   "outputs": [
    {
     "name": "stdout",
     "output_type": "stream",
     "text": [
      "This function is in parent class\n"
     ]
    }
   ],
   "source": [
    "# Base class\n",
    "class Parent:\n",
    "    def func1(self):\n",
    "        print(\"This function is in parent class\")\n",
    "        \n",
    "# Derived or Child class\n",
    "class Child(Parent):\n",
    "    def func2(self):\n",
    "        print(\"This func is in child class\")\n",
    "        \n",
    "obj = Child() # Object of child class\n",
    "obj.func1() # Accessing parent class method with child class object"
   ]
  },
  {
   "cell_type": "code",
   "execution_count": 2,
   "id": "2d35f00e",
   "metadata": {},
   "outputs": [
    {
     "name": "stdout",
     "output_type": "stream",
     "text": [
      "This func is in child class\n"
     ]
    }
   ],
   "source": [
    "obj.func2()"
   ]
  },
  {
   "cell_type": "code",
   "execution_count": 3,
   "id": "b9b32b23",
   "metadata": {},
   "outputs": [
    {
     "name": "stdout",
     "output_type": "stream",
     "text": [
      "This function is in parent class\n"
     ]
    }
   ],
   "source": [
    "obj1 = Parent()\n",
    "obj1.func1()"
   ]
  },
  {
   "cell_type": "code",
   "execution_count": 4,
   "id": "5363e457",
   "metadata": {},
   "outputs": [
    {
     "ename": "AttributeError",
     "evalue": "'Parent' object has no attribute 'func2'",
     "output_type": "error",
     "traceback": [
      "\u001b[1;31m---------------------------------------------------------------------------\u001b[0m",
      "\u001b[1;31mAttributeError\u001b[0m                            Traceback (most recent call last)",
      "Cell \u001b[1;32mIn[4], line 1\u001b[0m\n\u001b[1;32m----> 1\u001b[0m obj1\u001b[38;5;241m.\u001b[39mfunc2()\n",
      "\u001b[1;31mAttributeError\u001b[0m: 'Parent' object has no attribute 'func2'"
     ]
    }
   ],
   "source": [
    "obj1.func2()"
   ]
  },
  {
   "cell_type": "code",
   "execution_count": 6,
   "id": "2176fe79",
   "metadata": {},
   "outputs": [
    {
     "name": "stdout",
     "output_type": "stream",
     "text": [
      "My name is Dan and age is 21.\n"
     ]
    }
   ],
   "source": [
    "class Base:\n",
    "    def __init__(self, name, age):\n",
    "        self.name = name\n",
    "        self.age = age\n",
    "        \n",
    "class Derived(Base):\n",
    "    def out(self):\n",
    "        print(f\"My name is {self.name} and age is {self.age}.\")\n",
    "        \n",
    "d = Derived(\"Dan\", 21)\n",
    "d.out()"
   ]
  },
  {
   "cell_type": "code",
   "execution_count": 7,
   "id": "8c80ac3a",
   "metadata": {},
   "outputs": [
    {
     "data": {
      "text/plain": [
       "'Dan'"
      ]
     },
     "execution_count": 7,
     "metadata": {},
     "output_type": "execute_result"
    }
   ],
   "source": [
    "d.name"
   ]
  },
  {
   "cell_type": "code",
   "execution_count": 8,
   "id": "9f468089",
   "metadata": {},
   "outputs": [
    {
     "data": {
      "text/plain": [
       "21"
      ]
     },
     "execution_count": 8,
     "metadata": {},
     "output_type": "execute_result"
    }
   ],
   "source": [
    "d.age"
   ]
  },
  {
   "cell_type": "markdown",
   "id": "60333e60",
   "metadata": {},
   "source": [
    "2. Multiple Inheritance:\n",
    "\n",
    "When a class can be derived from more than one base class. All the features of base classes are inherited into child or derived class."
   ]
  },
  {
   "cell_type": "code",
   "execution_count": 9,
   "id": "f7e45ef8",
   "metadata": {},
   "outputs": [
    {
     "name": "stdout",
     "output_type": "stream",
     "text": [
      "Father: Dan\n",
      "Mother: Rita\n"
     ]
    }
   ],
   "source": [
    "class Mother: # Base class 1\n",
    "    mothername = \"\"\n",
    "    def mother(self):\n",
    "        print(self.mothername)\n",
    "        \n",
    "class Father: # Base class 2\n",
    "    fathername = \"\"\n",
    "    def father(self):\n",
    "        print(self.fathername)\n",
    "    \n",
    "class Child(Mother, Father): # Derived class(Multiple Inheritance)\n",
    "    def parents(self):\n",
    "        print(\"Father:\", self.fathername)\n",
    "        print(\"Mother:\", self.mothername)\n",
    "        \n",
    "c = Child() # Creating an object for child class\n",
    "c.mothername = \"Rita\"\n",
    "c.fathername = \"Dan\"\n",
    "c.parents()"
   ]
  },
  {
   "cell_type": "code",
   "execution_count": 10,
   "id": "00d8add3",
   "metadata": {},
   "outputs": [
    {
     "name": "stdout",
     "output_type": "stream",
     "text": [
      "Rita\n"
     ]
    }
   ],
   "source": [
    "c.mother()"
   ]
  },
  {
   "cell_type": "code",
   "execution_count": 11,
   "id": "9b3ed3a7",
   "metadata": {},
   "outputs": [
    {
     "name": "stdout",
     "output_type": "stream",
     "text": [
      "Dan\n"
     ]
    }
   ],
   "source": [
    "c.father()"
   ]
  },
  {
   "cell_type": "markdown",
   "id": "f79f44fa",
   "metadata": {},
   "source": [
    "3. Multilevel Inheritance:\n",
    "\n",
    "like a relationship representing a child and a grandfather.\n",
    "\n",
    "Features of base class and derived class are further inherited into the new derived class."
   ]
  },
  {
   "cell_type": "code",
   "execution_count": 12,
   "id": "c91a494b",
   "metadata": {},
   "outputs": [
    {
     "data": {
      "text/plain": [
       "'Fed'"
      ]
     },
     "execution_count": 12,
     "metadata": {},
     "output_type": "execute_result"
    }
   ],
   "source": [
    "class Grandfather: # Base class\n",
    "    def __init__(self, grandfathername):\n",
    "        self.grandfathername = grandfathername\n",
    "        \n",
    "class Father(Grandfather):\n",
    "    def __init__(self, fathername, grandfathername):\n",
    "        self.fathername = fathername\n",
    "        Grandfather.__init__(self, grandfathername) # Calling the constructor of the base class\n",
    "        \n",
    "class Child(Father):\n",
    "    def __init__(self, childname, fathername, grandfathername):\n",
    "        self.childname = childname\n",
    "        Father.__init__(self, fathername, grandfathername)\n",
    "        \n",
    "    def print_name(self):\n",
    "        print(f\"Grandfather name: {self.grandfathername}, Father name: {self.fathername}, Child name: {self.childname}.\")\n",
    "\n",
    "c1 = Child('Enzo', 'Rafa', 'Fed')\n",
    "c1.grandfathername"
   ]
  },
  {
   "cell_type": "code",
   "execution_count": 13,
   "id": "e3fbd40b",
   "metadata": {},
   "outputs": [
    {
     "data": {
      "text/plain": [
       "'Rafa'"
      ]
     },
     "execution_count": 13,
     "metadata": {},
     "output_type": "execute_result"
    }
   ],
   "source": [
    "c1.fathername"
   ]
  },
  {
   "cell_type": "code",
   "execution_count": 14,
   "id": "0bf54e65",
   "metadata": {},
   "outputs": [
    {
     "data": {
      "text/plain": [
       "'Enzo'"
      ]
     },
     "execution_count": 14,
     "metadata": {},
     "output_type": "execute_result"
    }
   ],
   "source": [
    "c1.childname"
   ]
  },
  {
   "cell_type": "code",
   "execution_count": 15,
   "id": "b649962f",
   "metadata": {},
   "outputs": [
    {
     "name": "stdout",
     "output_type": "stream",
     "text": [
      "Grandfather name: Fed, Father name: Rafa, Child name: Enzo.\n"
     ]
    }
   ],
   "source": [
    "c1.print_name()"
   ]
  },
  {
   "cell_type": "markdown",
   "id": "c8db8e07",
   "metadata": {},
   "source": [
    "4. Heirarchical Inheritance:\n",
    "\n",
    "When more than one derived(child) class are created from a single base class."
   ]
  },
  {
   "cell_type": "code",
   "execution_count": 16,
   "id": "47d9e587",
   "metadata": {},
   "outputs": [],
   "source": [
    "class Parent:\n",
    "    def func1(self):\n",
    "        print(\"This func is in parent class\")\n",
    "        \n",
    "class Child1(Parent):\n",
    "    def func2(self):\n",
    "        print(\"This func is in child 1\")\n",
    "    \n",
    "class Child2(Parent):\n",
    "    def func3(self):\n",
    "        print(\"This func is in child 2\")\n",
    "        \n",
    "ob1 = Child1()\n",
    "ob2 = Child2()"
   ]
  },
  {
   "cell_type": "code",
   "execution_count": 17,
   "id": "1c246c68",
   "metadata": {},
   "outputs": [
    {
     "name": "stdout",
     "output_type": "stream",
     "text": [
      "This func is in parent class\n"
     ]
    }
   ],
   "source": [
    "ob1.func1()"
   ]
  },
  {
   "cell_type": "code",
   "execution_count": 18,
   "id": "4d862631",
   "metadata": {},
   "outputs": [
    {
     "ename": "AttributeError",
     "evalue": "'Child1' object has no attribute 'func3'",
     "output_type": "error",
     "traceback": [
      "\u001b[1;31m---------------------------------------------------------------------------\u001b[0m",
      "\u001b[1;31mAttributeError\u001b[0m                            Traceback (most recent call last)",
      "Cell \u001b[1;32mIn[18], line 1\u001b[0m\n\u001b[1;32m----> 1\u001b[0m ob1\u001b[38;5;241m.\u001b[39mfunc3()\n",
      "\u001b[1;31mAttributeError\u001b[0m: 'Child1' object has no attribute 'func3'"
     ]
    }
   ],
   "source": [
    "ob1.func3()"
   ]
  },
  {
   "cell_type": "code",
   "execution_count": 19,
   "id": "a3eb704b",
   "metadata": {},
   "outputs": [
    {
     "name": "stdout",
     "output_type": "stream",
     "text": [
      "This func is in parent class\n"
     ]
    }
   ],
   "source": [
    "ob2.func1()"
   ]
  },
  {
   "cell_type": "code",
   "execution_count": 20,
   "id": "d9ee82d1",
   "metadata": {},
   "outputs": [
    {
     "ename": "AttributeError",
     "evalue": "'Child2' object has no attribute 'func2'",
     "output_type": "error",
     "traceback": [
      "\u001b[1;31m---------------------------------------------------------------------------\u001b[0m",
      "\u001b[1;31mAttributeError\u001b[0m                            Traceback (most recent call last)",
      "Cell \u001b[1;32mIn[20], line 1\u001b[0m\n\u001b[1;32m----> 1\u001b[0m ob2\u001b[38;5;241m.\u001b[39mfunc2()\n",
      "\u001b[1;31mAttributeError\u001b[0m: 'Child2' object has no attribute 'func2'"
     ]
    }
   ],
   "source": [
    "ob2.func2()"
   ]
  },
  {
   "cell_type": "markdown",
   "id": "bd29ffe5",
   "metadata": {},
   "source": [
    "5. Hybrid Inheritance:\n",
    "    \n",
    "Inheritance consisting of multiple types of ineritances inside it."
   ]
  },
  {
   "cell_type": "code",
   "execution_count": 21,
   "id": "ac0bc8a7",
   "metadata": {},
   "outputs": [
    {
     "name": "stdout",
     "output_type": "stream",
     "text": [
      "This func is in school\n"
     ]
    }
   ],
   "source": [
    "class School:\n",
    "    def func1(self):\n",
    "        print(\"This func is in school\")\n",
    "        \n",
    "class Student1(School):\n",
    "    def func2(self):\n",
    "        print(\"This func is in student 1\")\n",
    "\n",
    "class Student2(School):\n",
    "    def func3(self):\n",
    "        print(\"This func is in student 2\")\n",
    "        \n",
    "class Student3(Student1, School):\n",
    "    def func4(self):\n",
    "        print(\"This func is in student 3\")\n",
    "        \n",
    "obj = Student3()\n",
    "obj.func1()"
   ]
  },
  {
   "cell_type": "code",
   "execution_count": 22,
   "id": "abdeb710",
   "metadata": {},
   "outputs": [
    {
     "name": "stdout",
     "output_type": "stream",
     "text": [
      "This func is in student 1\n"
     ]
    }
   ],
   "source": [
    "obj.func2()"
   ]
  },
  {
   "cell_type": "code",
   "execution_count": 23,
   "id": "f27203a1",
   "metadata": {},
   "outputs": [
    {
     "ename": "AttributeError",
     "evalue": "'Student3' object has no attribute 'func3'",
     "output_type": "error",
     "traceback": [
      "\u001b[1;31m---------------------------------------------------------------------------\u001b[0m",
      "\u001b[1;31mAttributeError\u001b[0m                            Traceback (most recent call last)",
      "Cell \u001b[1;32mIn[23], line 1\u001b[0m\n\u001b[1;32m----> 1\u001b[0m obj\u001b[38;5;241m.\u001b[39mfunc3()\n",
      "\u001b[1;31mAttributeError\u001b[0m: 'Student3' object has no attribute 'func3'"
     ]
    }
   ],
   "source": [
    "obj.func3() # No direct relation"
   ]
  },
  {
   "cell_type": "code",
   "execution_count": 24,
   "id": "25c762f4",
   "metadata": {},
   "outputs": [
    {
     "name": "stdout",
     "output_type": "stream",
     "text": [
      "This func is in student 3\n"
     ]
    }
   ],
   "source": [
    "obj.func4()"
   ]
  },
  {
   "cell_type": "markdown",
   "id": "6612efad",
   "metadata": {},
   "source": [
    "### Encapsulation:\n",
    "\n",
    "Involved bundling of data(attributes) and methods(functions) that operate inside the class.\n",
    "\n",
    "It provides a way to control access to data, preventing modification.\n",
    "\n",
    "3 types of access specifiers in Python:\n",
    "\n",
    "1. Public\n",
    "\n",
    "2. Protected\n",
    "\n",
    "3. Private"
   ]
  },
  {
   "cell_type": "markdown",
   "id": "cee065ac",
   "metadata": {},
   "source": [
    "#### Public members:\n",
    "\n",
    "Members that are accessible from outside the class.\n",
    "\n",
    "No special syntax is required."
   ]
  },
  {
   "cell_type": "code",
   "execution_count": 25,
   "id": "67434049",
   "metadata": {},
   "outputs": [
    {
     "data": {
      "text/plain": [
       "'Red'"
      ]
     },
     "execution_count": 25,
     "metadata": {},
     "output_type": "execute_result"
    }
   ],
   "source": [
    "class Myclass:\n",
    "    def __init__(self, color):\n",
    "        self.color = color # Public attributes\n",
    "        self.public_member = \"I am a public member\"\n",
    "        \n",
    "obj = Myclass(\"Red\")\n",
    "obj.color"
   ]
  },
  {
   "cell_type": "code",
   "execution_count": 26,
   "id": "f57cdf62",
   "metadata": {},
   "outputs": [
    {
     "data": {
      "text/plain": [
       "'I am a public member'"
      ]
     },
     "execution_count": 26,
     "metadata": {},
     "output_type": "execute_result"
    }
   ],
   "source": [
    "obj.public_member"
   ]
  },
  {
   "cell_type": "markdown",
   "id": "a1173c06",
   "metadata": {},
   "source": [
    "#### Protected members:\n",
    "\n",
    "Members are denoted by a single leading underscore(_) before their names.\n",
    "\n",
    "While they can be accessed outside the class, it is not meant to be accessed directly."
   ]
  },
  {
   "cell_type": "code",
   "execution_count": 27,
   "id": "90c3fab5",
   "metadata": {},
   "outputs": [
    {
     "data": {
      "text/plain": [
       "'Protected member'"
      ]
     },
     "execution_count": 27,
     "metadata": {},
     "output_type": "execute_result"
    }
   ],
   "source": [
    "class pro:\n",
    "    def __init__(self):\n",
    "        self._protected_member = \"Protected member\"\n",
    "\n",
    "obj = pro()\n",
    "obj._protected_member # Not recommended to access outside class"
   ]
  },
  {
   "cell_type": "markdown",
   "id": "341c91f6",
   "metadata": {},
   "source": [
    "#### Private members:\n",
    "\n",
    "are denoted by double leading underscores before their names.\n",
    "\n",
    "Private members are not accessible from outside class and also not inheritable."
   ]
  },
  {
   "cell_type": "code",
   "execution_count": 29,
   "id": "8ab266da",
   "metadata": {},
   "outputs": [],
   "source": [
    "class priv:\n",
    "    def __init__(self, balance):\n",
    "        self.__balance = balance\n",
    "        self.__priv = \"Private member\"\n",
    "        \n",
    "obj = priv(1234)"
   ]
  },
  {
   "cell_type": "code",
   "execution_count": 30,
   "id": "482e7384",
   "metadata": {},
   "outputs": [
    {
     "ename": "AttributeError",
     "evalue": "'priv' object has no attribute '__balance'",
     "output_type": "error",
     "traceback": [
      "\u001b[1;31m---------------------------------------------------------------------------\u001b[0m",
      "\u001b[1;31mAttributeError\u001b[0m                            Traceback (most recent call last)",
      "Cell \u001b[1;32mIn[30], line 1\u001b[0m\n\u001b[1;32m----> 1\u001b[0m obj\u001b[38;5;241m.\u001b[39m__balance\n",
      "\u001b[1;31mAttributeError\u001b[0m: 'priv' object has no attribute '__balance'"
     ]
    }
   ],
   "source": [
    "obj.__balance # Error as it is a private member"
   ]
  },
  {
   "cell_type": "code",
   "execution_count": 32,
   "id": "6b42822f",
   "metadata": {},
   "outputs": [
    {
     "ename": "AttributeError",
     "evalue": "'priv' object has no attribute '__priv'",
     "output_type": "error",
     "traceback": [
      "\u001b[1;31m---------------------------------------------------------------------------\u001b[0m",
      "\u001b[1;31mAttributeError\u001b[0m                            Traceback (most recent call last)",
      "Cell \u001b[1;32mIn[32], line 1\u001b[0m\n\u001b[1;32m----> 1\u001b[0m obj\u001b[38;5;241m.\u001b[39m__priv\n",
      "\u001b[1;31mAttributeError\u001b[0m: 'priv' object has no attribute '__priv'"
     ]
    }
   ],
   "source": [
    "obj.__priv"
   ]
  },
  {
   "cell_type": "markdown",
   "id": "01d1ecf6",
   "metadata": {},
   "source": [
    "#### Getters and Setters:\n",
    "\n",
    "are methods used to access and modify the attributes of a class.\n",
    "\n",
    "They can be used to access or print the value of private member or even change/modify the private members value.\n",
    "\n",
    "Getters: Get the data from attribute\n",
    "\n",
    "Setters: Sets a particular value to the attributes"
   ]
  },
  {
   "cell_type": "code",
   "execution_count": 33,
   "id": "79163a95",
   "metadata": {},
   "outputs": [
    {
     "ename": "AttributeError",
     "evalue": "'Circle' object has no attribute '__radius'",
     "output_type": "error",
     "traceback": [
      "\u001b[1;31m---------------------------------------------------------------------------\u001b[0m",
      "\u001b[1;31mAttributeError\u001b[0m                            Traceback (most recent call last)",
      "Cell \u001b[1;32mIn[33], line 15\u001b[0m\n\u001b[0;32m     11\u001b[0m         \u001b[38;5;28mself\u001b[39m\u001b[38;5;241m.\u001b[39m__radius \u001b[38;5;241m=\u001b[39m value\n\u001b[0;32m     14\u001b[0m c \u001b[38;5;241m=\u001b[39m Circle(\u001b[38;5;241m5\u001b[39m)\n\u001b[1;32m---> 15\u001b[0m c\u001b[38;5;241m.\u001b[39m__radius\n",
      "\u001b[1;31mAttributeError\u001b[0m: 'Circle' object has no attribute '__radius'"
     ]
    }
   ],
   "source": [
    "class Circle:\n",
    "    def __init__(self, radius):\n",
    "        self.__radius = radius # Private attribute\n",
    "        \n",
    "    # Getter method for radius\n",
    "    def get_radius(self):\n",
    "        print(\"Radius is:\", self.__radius)\n",
    "        \n",
    "    # Setter method for radius\n",
    "    def set_radius(self, value):\n",
    "        self.__radius = value\n",
    "        \n",
    "        \n",
    "c = Circle(5)\n",
    "c.__radius"
   ]
  },
  {
   "cell_type": "code",
   "execution_count": 34,
   "id": "4eaa234d",
   "metadata": {},
   "outputs": [
    {
     "name": "stdout",
     "output_type": "stream",
     "text": [
      "Radius is: 5\n"
     ]
    }
   ],
   "source": [
    "c.get_radius()"
   ]
  },
  {
   "cell_type": "code",
   "execution_count": 35,
   "id": "a19c3dbc",
   "metadata": {},
   "outputs": [
    {
     "name": "stdout",
     "output_type": "stream",
     "text": [
      "Radius is: 10\n"
     ]
    }
   ],
   "source": [
    "c.set_radius(10)\n",
    "c.get_radius()"
   ]
  },
  {
   "cell_type": "code",
   "execution_count": 37,
   "id": "a55d77bb",
   "metadata": {},
   "outputs": [
    {
     "name": "stdout",
     "output_type": "stream",
     "text": [
      "Private\n"
     ]
    }
   ],
   "source": [
    "class Myclass3:\n",
    "    def __init__(self):\n",
    "        self.__private_member = \"Private\"\n",
    "    def get(self):\n",
    "        print(self.__private_member)\n",
    "\n",
    "obj = Myclass3()\n",
    "obj.get()"
   ]
  },
  {
   "cell_type": "code",
   "execution_count": 38,
   "id": "f48429fa",
   "metadata": {},
   "outputs": [
    {
     "ename": "AttributeError",
     "evalue": "'myclass' object has no attribute '__private_method'",
     "output_type": "error",
     "traceback": [
      "\u001b[1;31m---------------------------------------------------------------------------\u001b[0m",
      "\u001b[1;31mAttributeError\u001b[0m                            Traceback (most recent call last)",
      "Cell \u001b[1;32mIn[38], line 12\u001b[0m\n\u001b[0;32m      9\u001b[0m         \u001b[38;5;28mself\u001b[39m\u001b[38;5;241m.\u001b[39m__private_method() \u001b[38;5;66;03m# Accessing private method from within class\u001b[39;00m\n\u001b[0;32m     11\u001b[0m m \u001b[38;5;241m=\u001b[39m myclass()\n\u001b[1;32m---> 12\u001b[0m m\u001b[38;5;241m.\u001b[39m__private_method()\n",
      "\u001b[1;31mAttributeError\u001b[0m: 'myclass' object has no attribute '__private_method'"
     ]
    }
   ],
   "source": [
    "class myclass:\n",
    "    def __init__(self):\n",
    "        self.__p = 10 # Private variable\n",
    "        \n",
    "    def __private_method(self): # Private method\n",
    "        print(\"Value of p is:\", self.__p)\n",
    "        \n",
    "    def access_private(self):\n",
    "        self.__private_method() # Accessing private method from within class\n",
    "        \n",
    "m = myclass()\n",
    "m.__private_method()"
   ]
  },
  {
   "cell_type": "code",
   "execution_count": 39,
   "id": "c2ac0d93",
   "metadata": {},
   "outputs": [
    {
     "name": "stdout",
     "output_type": "stream",
     "text": [
      "Value of p is: 10\n"
     ]
    }
   ],
   "source": [
    "m.access_private()"
   ]
  },
  {
   "cell_type": "code",
   "execution_count": null,
   "id": "7897891e",
   "metadata": {},
   "outputs": [],
   "source": []
  }
 ],
 "metadata": {
  "kernelspec": {
   "display_name": "Python 3 (ipykernel)",
   "language": "python",
   "name": "python3"
  },
  "language_info": {
   "codemirror_mode": {
    "name": "ipython",
    "version": 3
   },
   "file_extension": ".py",
   "mimetype": "text/x-python",
   "name": "python",
   "nbconvert_exporter": "python",
   "pygments_lexer": "ipython3",
   "version": "3.11.5"
  }
 },
 "nbformat": 4,
 "nbformat_minor": 5
}
