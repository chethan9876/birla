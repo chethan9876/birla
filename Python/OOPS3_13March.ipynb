{
 "cells": [
  {
   "cell_type": "code",
   "execution_count": 1,
   "id": "5df1bb77",
   "metadata": {},
   "outputs": [],
   "source": [
    "# Inheritance and Encapsulation"
   ]
  },
  {
   "cell_type": "markdown",
   "id": "4b6c7c70",
   "metadata": {},
   "source": [
    "## Polymorphism:\n",
    "\n",
    "(Many forms)\n",
    "\n",
    "is a concept of OOP that allows objects of different classes to be treated as objects of common base class.\n",
    "\n",
    "Advantages: Write more flexible code, Reusable code."
   ]
  },
  {
   "cell_type": "code",
   "execution_count": 4,
   "id": "7ae0aefa",
   "metadata": {},
   "outputs": [
    {
     "data": {
      "text/plain": [
       "12.56"
      ]
     },
     "execution_count": 4,
     "metadata": {},
     "output_type": "execute_result"
    }
   ],
   "source": [
    "class Shape:\n",
    "    def area(self):\n",
    "        pass\n",
    "    \n",
    "class Circle(Shape):\n",
    "    def __init__(self, radius):\n",
    "        self.radius = radius\n",
    "        \n",
    "    def area(self): # Method Overriding\n",
    "        return 3.14 * self.radius * self.radius\n",
    "    \n",
    "class Rectangle(Shape):\n",
    "    def __init__(self, length, breadth):\n",
    "        self.length = length\n",
    "        self.breadth = breadth\n",
    "        \n",
    "    def area(self):\n",
    "        return self.length * self.breadth\n",
    "    \n",
    "def calculate_area(shape): # Shows polymorphism\n",
    "    return shape.area()\n",
    "\n",
    "c = Circle(2) # Object 1\n",
    "calculate_area(c)"
   ]
  },
  {
   "cell_type": "code",
   "execution_count": 5,
   "id": "ff79cfbc",
   "metadata": {},
   "outputs": [
    {
     "data": {
      "text/plain": [
       "24"
      ]
     },
     "execution_count": 5,
     "metadata": {},
     "output_type": "execute_result"
    }
   ],
   "source": [
    "rect = Rectangle(4, 6)\n",
    "calculate_area(rect)"
   ]
  },
  {
   "cell_type": "markdown",
   "id": "f78912e0",
   "metadata": {},
   "source": [
    "### Types of Polymorphism:\n",
    "\n",
    "1. Compile-time polymorphism (Method Overloading)\n",
    "\n",
    "2. Runtime polymorphism (Method Overriding)"
   ]
  },
  {
   "cell_type": "markdown",
   "id": "7d607f38",
   "metadata": {},
   "source": [
    "#### Compile time polymorphism:\n",
    "\n",
    "We define multiple methods in the same class with same name but with different parameters."
   ]
  },
  {
   "cell_type": "code",
   "execution_count": 6,
   "id": "51d404b0",
   "metadata": {},
   "outputs": [
    {
     "name": "stdout",
     "output_type": "stream",
     "text": [
      "10\n"
     ]
    }
   ],
   "source": [
    "def add(a, b):\n",
    "    print(a + b)\n",
    "    \n",
    "def add(a, b, c): # Method Overloading\n",
    "    print(a + b + c)\n",
    "    \n",
    "add(3, 4, 3)"
   ]
  },
  {
   "cell_type": "code",
   "execution_count": 7,
   "id": "220a184f",
   "metadata": {},
   "outputs": [
    {
     "ename": "TypeError",
     "evalue": "add() missing 1 required positional argument: 'c'",
     "output_type": "error",
     "traceback": [
      "\u001b[1;31m---------------------------------------------------------------------------\u001b[0m",
      "\u001b[1;31mTypeError\u001b[0m                                 Traceback (most recent call last)",
      "Cell \u001b[1;32mIn[7], line 1\u001b[0m\n\u001b[1;32m----> 1\u001b[0m add(\u001b[38;5;241m5\u001b[39m, \u001b[38;5;241m2\u001b[39m)\n",
      "\u001b[1;31mTypeError\u001b[0m: add() missing 1 required positional argument: 'c'"
     ]
    }
   ],
   "source": [
    "add(5, 2) # Error because python only considers last function definition"
   ]
  },
  {
   "cell_type": "markdown",
   "id": "8a806755",
   "metadata": {},
   "source": [
    "#### To overcome this issue in Python, we can use Default Parameters:"
   ]
  },
  {
   "cell_type": "code",
   "execution_count": 8,
   "id": "9c5e96ef",
   "metadata": {},
   "outputs": [
    {
     "name": "stdout",
     "output_type": "stream",
     "text": [
      "8\n"
     ]
    }
   ],
   "source": [
    "def add(a, b, c=0): # c is a default paramter set to 0\n",
    "    print(a + b + c)\n",
    "    \n",
    "add(5, 3)"
   ]
  },
  {
   "cell_type": "code",
   "execution_count": 9,
   "id": "d773222d",
   "metadata": {},
   "outputs": [
    {
     "name": "stdout",
     "output_type": "stream",
     "text": [
      "14\n"
     ]
    }
   ],
   "source": [
    "add(3, 5, 6)"
   ]
  },
  {
   "cell_type": "code",
   "execution_count": 10,
   "id": "980a5e9d",
   "metadata": {},
   "outputs": [
    {
     "name": "stdout",
     "output_type": "stream",
     "text": [
      "1\n"
     ]
    }
   ],
   "source": [
    "def mult(a=1, b=1,c=1, d=1):\n",
    "    print(a * b * c * d)\n",
    "    \n",
    "mult()"
   ]
  },
  {
   "cell_type": "code",
   "execution_count": 11,
   "id": "e39429f7",
   "metadata": {},
   "outputs": [
    {
     "name": "stdout",
     "output_type": "stream",
     "text": [
      "20\n"
     ]
    }
   ],
   "source": [
    "mult(4, 5)"
   ]
  },
  {
   "cell_type": "code",
   "execution_count": 12,
   "id": "4ab7bb01",
   "metadata": {},
   "outputs": [
    {
     "name": "stdout",
     "output_type": "stream",
     "text": [
      "30\n"
     ]
    }
   ],
   "source": [
    "mult(3, 2, 5)"
   ]
  },
  {
   "cell_type": "code",
   "execution_count": 13,
   "id": "a596019d",
   "metadata": {},
   "outputs": [
    {
     "name": "stdout",
     "output_type": "stream",
     "text": [
      "24\n"
     ]
    }
   ],
   "source": [
    "mult(2, 2, 2, 3)"
   ]
  },
  {
   "cell_type": "code",
   "execution_count": 14,
   "id": "3d22af88",
   "metadata": {},
   "outputs": [],
   "source": [
    "def operation(a, b):\n",
    "    return a + b\n",
    "\n",
    "def operation(a, b, c, d):\n",
    "    return a - b - c - d\n",
    "\n",
    "def operation(a, b, c): # This works\n",
    "     return a * b * c"
   ]
  },
  {
   "cell_type": "code",
   "execution_count": 15,
   "id": "13a0b86f",
   "metadata": {},
   "outputs": [
    {
     "ename": "TypeError",
     "evalue": "operation() takes 3 positional arguments but 4 were given",
     "output_type": "error",
     "traceback": [
      "\u001b[1;31m---------------------------------------------------------------------------\u001b[0m",
      "\u001b[1;31mTypeError\u001b[0m                                 Traceback (most recent call last)",
      "Cell \u001b[1;32mIn[15], line 1\u001b[0m\n\u001b[1;32m----> 1\u001b[0m operation(\u001b[38;5;241m3\u001b[39m, \u001b[38;5;241m4\u001b[39m, \u001b[38;5;241m5\u001b[39m, \u001b[38;5;241m5\u001b[39m)\n",
      "\u001b[1;31mTypeError\u001b[0m: operation() takes 3 positional arguments but 4 were given"
     ]
    }
   ],
   "source": [
    "operation(3, 4, 5, 5)"
   ]
  },
  {
   "cell_type": "code",
   "execution_count": 16,
   "id": "d4724d55",
   "metadata": {},
   "outputs": [
    {
     "data": {
      "text/plain": [
       "40"
      ]
     },
     "execution_count": 16,
     "metadata": {},
     "output_type": "execute_result"
    }
   ],
   "source": [
    "operation(4, 5, 2)"
   ]
  },
  {
   "cell_type": "code",
   "execution_count": 17,
   "id": "cbca414b",
   "metadata": {},
   "outputs": [],
   "source": [
    "class MathOp:\n",
    "    def add(self, a, b=0, c=0):\n",
    "        return a + b + c\n",
    "    \n",
    "calc = MathOp()"
   ]
  },
  {
   "cell_type": "code",
   "execution_count": 18,
   "id": "6c226cfa",
   "metadata": {},
   "outputs": [
    {
     "data": {
      "text/plain": [
       "5"
      ]
     },
     "execution_count": 18,
     "metadata": {},
     "output_type": "execute_result"
    }
   ],
   "source": [
    "calc.add(2, 3)"
   ]
  },
  {
   "cell_type": "code",
   "execution_count": 19,
   "id": "3c6d43f9",
   "metadata": {},
   "outputs": [
    {
     "data": {
      "text/plain": [
       "10"
      ]
     },
     "execution_count": 19,
     "metadata": {},
     "output_type": "execute_result"
    }
   ],
   "source": [
    "calc.add(2, 3, 5)"
   ]
  },
  {
   "cell_type": "code",
   "execution_count": 20,
   "id": "cb84b6e6",
   "metadata": {},
   "outputs": [
    {
     "ename": "TypeError",
     "evalue": "MathOp.add() missing 1 required positional argument: 'a'",
     "output_type": "error",
     "traceback": [
      "\u001b[1;31m---------------------------------------------------------------------------\u001b[0m",
      "\u001b[1;31mTypeError\u001b[0m                                 Traceback (most recent call last)",
      "Cell \u001b[1;32mIn[20], line 1\u001b[0m\n\u001b[1;32m----> 1\u001b[0m calc\u001b[38;5;241m.\u001b[39madd()\n",
      "\u001b[1;31mTypeError\u001b[0m: MathOp.add() missing 1 required positional argument: 'a'"
     ]
    }
   ],
   "source": [
    "calc.add()"
   ]
  },
  {
   "cell_type": "markdown",
   "id": "def5938d",
   "metadata": {},
   "source": [
    "#### Runtime Polymorphism:\n",
    "\n",
    "Redefining the function in subclass(child) that was already defined in base class.\n",
    "\n",
    "Overloading: Same func name, different parameters\n",
    "\n",
    "Overriding: Same func name, different func definition\n",
    "\n",
    "##### Overloading:\n",
    "\n",
    "def add(a, b):\n",
    "\n",
    "def add(a, b, c):\n",
    "\n",
    "##### Overriding:\n",
    "\n",
    "def add(a, b):\n",
    "    return a + b\n",
    "    \n",
    "def add(a, b):\n",
    "    return a - b"
   ]
  },
  {
   "cell_type": "code",
   "execution_count": 21,
   "id": "f130d863",
   "metadata": {},
   "outputs": [
    {
     "name": "stdout",
     "output_type": "stream",
     "text": [
      "Animal Speaks\n"
     ]
    }
   ],
   "source": [
    "class Animal:\n",
    "    def speak(self):\n",
    "        print(\"Animal Speaks\")\n",
    "        \n",
    "class Dog(Animal):\n",
    "    def speak(self): # Method Overriding\n",
    "        print(\"Dog barks\")\n",
    "        \n",
    "class Cat(Animal):\n",
    "    def speak(self): # Method Overriding\n",
    "        print(\"Cat meows\")\n",
    "        \n",
    "def sounds(an): # Takes in object\n",
    "    return an.speak()\n",
    "\n",
    "animal = Animal()\n",
    "sounds(animal)"
   ]
  },
  {
   "cell_type": "code",
   "execution_count": 22,
   "id": "8a97cc2e",
   "metadata": {},
   "outputs": [
    {
     "name": "stdout",
     "output_type": "stream",
     "text": [
      "Dog barks\n"
     ]
    }
   ],
   "source": [
    "dog = Dog()\n",
    "sounds(dog)"
   ]
  },
  {
   "cell_type": "code",
   "execution_count": 23,
   "id": "420818b9",
   "metadata": {},
   "outputs": [
    {
     "name": "stdout",
     "output_type": "stream",
     "text": [
      "Cat meows\n"
     ]
    }
   ],
   "source": [
    "cat = Cat()\n",
    "sounds(cat)"
   ]
  },
  {
   "cell_type": "markdown",
   "id": "cfb074fd",
   "metadata": {},
   "source": [
    "#### Uses:\n",
    "\n",
    "Simplifies code,\n",
    "\n",
    "Code reusability,\n",
    "\n",
    "Modularity and Easy to maintain."
   ]
  },
  {
   "cell_type": "markdown",
   "id": "82b03863",
   "metadata": {},
   "source": [
    "## Abstraction:\n",
    "\n",
    "used to help focus on the relevant or useful information/data by hiding by unnecessary details.\n",
    "\n",
    "In python, we use abstract class and abstract methods with help of the abc module to implement abstraction."
   ]
  },
  {
   "cell_type": "code",
   "execution_count": 24,
   "id": "c7c6cdc9",
   "metadata": {},
   "outputs": [
    {
     "data": {
      "text/plain": [
       "12.56"
      ]
     },
     "execution_count": 24,
     "metadata": {},
     "output_type": "execute_result"
    }
   ],
   "source": [
    "from abc import ABC, abstractmethod \n",
    "\n",
    "# Abstract class\n",
    "class Shape(ABC): # Shows that Shape is the abstract base class\n",
    "    @abstractmethod\n",
    "    def area(self):\n",
    "        pass\n",
    "    \n",
    "# Class implementing abstract class\n",
    "class Circle(Shape):\n",
    "    def __init__(self, radius):\n",
    "        self.radius = radius\n",
    "        \n",
    "    def area(self):\n",
    "        return 3.14 * self.radius * self.radius\n",
    "    \n",
    "class Square(Shape):\n",
    "    def __init__(self, side):\n",
    "        self.side = side\n",
    "    \n",
    "    def area(self):\n",
    "        return self.side * self.side\n",
    "    \n",
    "circle = Circle(2)\n",
    "circle.area()"
   ]
  },
  {
   "cell_type": "code",
   "execution_count": 25,
   "id": "20a97909",
   "metadata": {},
   "outputs": [
    {
     "data": {
      "text/plain": [
       "25"
      ]
     },
     "execution_count": 25,
     "metadata": {},
     "output_type": "execute_result"
    }
   ],
   "source": [
    "square = Square(5)\n",
    "square.area()"
   ]
  },
  {
   "cell_type": "code",
   "execution_count": 26,
   "id": "cc525bee",
   "metadata": {},
   "outputs": [],
   "source": [
    "# Example of abstraction layer"
   ]
  },
  {
   "cell_type": "code",
   "execution_count": 27,
   "id": "df645f0b",
   "metadata": {},
   "outputs": [],
   "source": [
    "import numpy as np"
   ]
  },
  {
   "cell_type": "code",
   "execution_count": 28,
   "id": "28799eb8",
   "metadata": {},
   "outputs": [
    {
     "data": {
      "text/plain": [
       "array([1, 2, 3, 4])"
      ]
     },
     "execution_count": 28,
     "metadata": {},
     "output_type": "execute_result"
    }
   ],
   "source": [
    "np.array([1,2,3,4])"
   ]
  },
  {
   "cell_type": "code",
   "execution_count": 29,
   "id": "b360e9b5",
   "metadata": {},
   "outputs": [
    {
     "data": {
      "text/plain": [
       "array([1., 1., 1.])"
      ]
     },
     "execution_count": 29,
     "metadata": {},
     "output_type": "execute_result"
    }
   ],
   "source": [
    "np.ones(3)"
   ]
  },
  {
   "cell_type": "code",
   "execution_count": 30,
   "id": "578f6379",
   "metadata": {},
   "outputs": [
    {
     "data": {
      "text/plain": [
       "array([[0., 0., 0.],\n",
       "       [0., 0., 0.],\n",
       "       [0., 0., 0.]])"
      ]
     },
     "execution_count": 30,
     "metadata": {},
     "output_type": "execute_result"
    }
   ],
   "source": [
    "np.zeros((3,3))"
   ]
  },
  {
   "cell_type": "markdown",
   "id": "f10ada64",
   "metadata": {},
   "source": [
    "Q. Create a Python class representing a Book. Include attributes such as title, author, and publication year. Implement a method to display information about the book."
   ]
  },
  {
   "cell_type": "code",
   "execution_count": 32,
   "id": "daae0b3c",
   "metadata": {},
   "outputs": [
    {
     "name": "stdout",
     "output_type": "stream",
     "text": [
      "Title of book is: Julius Caesar\n",
      "Author is: Shakespeare\n",
      "Publication Year is: 1599\n"
     ]
    }
   ],
   "source": [
    "class Book:\n",
    "    def __init__(self, title, author, pub_year):\n",
    "        self.t = title\n",
    "        self.a = author\n",
    "        self.pub_year = pub_year\n",
    "        \n",
    "    def display(self):\n",
    "        print('Title of book is:', self.t)\n",
    "        print('Author is:', self.a)\n",
    "        print('Publication Year is:', self.pub_year)\n",
    "        \n",
    "b = Book('Julius Caesar', 'Shakespeare', 1599)\n",
    "b.display()"
   ]
  },
  {
   "cell_type": "code",
   "execution_count": 33,
   "id": "2ea83af5",
   "metadata": {},
   "outputs": [
    {
     "name": "stdout",
     "output_type": "stream",
     "text": [
      "Enter age: 32\n",
      "Enter name: Max\n",
      "My name is Max, and age is 32.\n"
     ]
    }
   ],
   "source": [
    "age = int(input(\"Enter age: \"))\n",
    "name = input(\"Enter name: \")\n",
    "print(f\"My name is {name}, and age is {age}.\")"
   ]
  },
  {
   "cell_type": "markdown",
   "id": "1b77b548",
   "metadata": {},
   "source": [
    "Q. Prime number or not. "
   ]
  },
  {
   "cell_type": "markdown",
   "id": "2c928acb",
   "metadata": {},
   "source": [
    "Q. Fibonacci Sequence."
   ]
  }
 ],
 "metadata": {
  "kernelspec": {
   "display_name": "Python 3 (ipykernel)",
   "language": "python",
   "name": "python3"
  },
  "language_info": {
   "codemirror_mode": {
    "name": "ipython",
    "version": 3
   },
   "file_extension": ".py",
   "mimetype": "text/x-python",
   "name": "python",
   "nbconvert_exporter": "python",
   "pygments_lexer": "ipython3",
   "version": "3.11.5"
  }
 },
 "nbformat": 4,
 "nbformat_minor": 5
}
